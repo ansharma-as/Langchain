{
 "cells": [
  {
   "cell_type": "code",
   "execution_count": 120,
   "id": "55059288",
   "metadata": {},
   "outputs": [],
   "source": [
    "from langgraph.graph import StateGraph, START, END\n",
    "from dotenv import load_dotenv\n",
    "from typing import TypedDict\n",
    "from langchain_google_genai import ChatGoogleGenerativeAI"
   ]
  },
  {
   "cell_type": "code",
   "execution_count": 121,
   "id": "e42112b2",
   "metadata": {},
   "outputs": [],
   "source": [
    "load_dotenv()\n",
    "\n",
    "model = ChatGoogleGenerativeAI(model='gemini-2.5-pro')"
   ]
  },
  {
   "cell_type": "code",
   "execution_count": 122,
   "id": "38f7a375",
   "metadata": {},
   "outputs": [],
   "source": [
    "class BlogState(TypedDict):\n",
    "    topic: str\n",
    "    outline: str\n",
    "    blog: str\n",
    "    evaluation: str"
   ]
  },
  {
   "cell_type": "code",
   "execution_count": 123,
   "id": "535da7f4",
   "metadata": {},
   "outputs": [],
   "source": [
    "def generate_outline(state: BlogState) -> BlogState:\n",
    "    topic = state[\"topic\"]\n",
    "    prompt = f\"Generate a detailed outline in 1-2 lines for a blog post about: {topic}\"\n",
    "    outline = model.invoke(prompt).content\n",
    "    print(\"Outline: \" , outline)\n",
    "    state[\"outline\"] = outline\n",
    "    return state"
   ]
  },
  {
   "cell_type": "code",
   "execution_count": 124,
   "id": "4931f4b4",
   "metadata": {},
   "outputs": [],
   "source": [
    "def generate_blog(state: BlogState) -> BlogState:\n",
    "    outline = state[\"outline\"]\n",
    "    prompt = f\"Write a comprehensive blog post based on the following outline:\\n{outline}\"\n",
    "    blog = model.invoke(prompt).content\n",
    "    # print(\"blog: \" , blog)\n",
    "    state[\"blog\"] = blog\n",
    "    return state"
   ]
  },
  {
   "cell_type": "code",
   "execution_count": 125,
   "id": "de2459ec",
   "metadata": {},
   "outputs": [],
   "source": [
    "def evaluate_blog(state: BlogState) -> BlogState:\n",
    "    blog = state[\"blog\"]\n",
    "    topic = state[\"topic\"]\n",
    "    outline = state[\"outline\"]\n",
    "    prompt = f\"Evaluate the following blog post for quality and coherence on a NOTE: Scale of 1 to 10 only in number no words strictly give output in scale of 1 - 10 dont give summary:\\n{blog}\"\n",
    "    evaluation = model.invoke(prompt).content\n",
    "    print(\"Evaluation: \" , evaluation)\n",
    "    state[\"evaluation\"] = evaluation\n",
    "    return state"
   ]
  },
  {
   "cell_type": "code",
   "execution_count": 126,
   "id": "c78bab58",
   "metadata": {},
   "outputs": [
    {
     "data": {
      "image/png": "[encoded data removed]",
      "text/plain": [
       "<langgraph.graph.state.CompiledStateGraph object at 0x11c1d04a0>"
      ]
     },
     "execution_count": 126,
     "metadata": {},
     "output_type": "execute_result"
    }
   ],
   "source": [
    "graph = StateGraph(BlogState)\n",
    "\n",
    "graph.add_node('generate_outline', generate_outline)\n",
    "graph.add_node('generate_blog', generate_blog)\n",
    "graph.add_node('evaluate_blog', evaluate_blog)\n",
    "\n",
    "\n",
    "\n",
    "graph.add_edge(START , 'generate_outline')\n",
    "graph.add_edge('generate_outline', 'generate_blog')\n",
    "graph.add_edge('generate_blog', 'evaluate_blog')\n",
    "graph.add_edge('evaluate_blog', END)\n",
    "\n",
    "\n",
    "graph.compile()"
   ]
  },
  {
   "cell_type": "code",
   "execution_count": 127,
   "id": "8038895e",
   "metadata": {},
   "outputs": [
    {
     "name": "stdout",
     "output_type": "stream",
     "text": [
      "Outline:  This post will chart AI's evolution from today's smart assistants to a future of proactive personalization in health, home, and work, while examining the critical ethical challenges and societal shifts this will create.\n",
      "Evaluation:  10\n",
      "{'topic': 'The Future of AI in Everyday Life', 'outline': \"This post will chart AI's evolution from today's smart assistants to a future of proactive personalization in health, home, and work, while examining the critical ethical challenges and societal shifts this will create.\", 'blog': 'Of course. Here is a comprehensive blog post based on the provided outline.\\n\\n***\\n\\n## From \"Hey Siri\" to \"Know Me\": Charting the Evolution of Proactive AI\\n\\nWe’ve all done it. \"Hey Siri, what\\'s the weather?\" \"Alexa, set a timer for 15 minutes.\" \"Okay Google, play my morning playlist.\" In just a few short years, AI has become a familiar, if somewhat basic, part of our daily lives. These digital assistants are powerful command-takers, dutifully waiting for our instructions. They are reactive.\\n\\nBut this is just the first step on a much longer journey. The next great leap in artificial intelligence won\\'t be about better answers to our questions. It will be about the AI knowing the questions we *should* be asking—and acting on them before we even think to.\\n\\nWe are on the cusp of a shift from a reactive to a *proactive* AI. This evolution will fundamentally reshape our lives, creating a future of deep, proactive personalization in our health, our homes, and our work. But as we race toward this hyper-convenient future, we must also confront the profound ethical challenges and societal shifts it will inevitably create.\\n\\n### The AI of Today: The Obedient Servant\\n\\nToday\\'s AI, powered by large language models (LLMs) and sophisticated algorithms, is a master of information retrieval and task execution. It can write an email, summarize a report, or find the best route through traffic. However, it operates within a limited context. It knows *what* you asked, but it doesn\\'t truly know *you*. It lacks a persistent memory of your goals, your preferences, your habits, and your health. It waits for you to initiate every interaction.\\n\\nThink of it as the difference between a call center operator and a world-class personal assistant. The operator can book a flight for you when you call. The personal assistant knows you hate red-eyes, prefer an aisle seat, are trying to collect points on a specific airline, and has already blocked your calendar for the travel time.\\n\\nThat\\'s the future we\\'re heading towards: an AI that functions as our personal chief of staff for life.\\n\\n### The Next Frontier: Proactive Personalization in Action\\n\\nThis future AI will be an ambient, ever-present system that synthesizes data from multiple sources—your calendar, biometrics from your watch, your communication patterns, your home sensors, and even public data like traffic and weather. Its goal won\\'t be to wait for commands, but to anticipate needs and smooth the friction of daily life.\\n\\nLet\\'s explore what this looks like in three key domains:\\n\\n#### **1. Health: The AI as Your Personal Wellness Guardian**\\n\\n*   **Today:** Your smartwatch tracks your steps and heart rate, presenting you with raw data you have to interpret.\\n*   **Tomorrow:** Your health AI will act as a holistic, real-time wellness coach. It will synthesize data from your wearables, your calendar, your grocery receipts, and even your genetic profile.\\n\\nImagine this scenario: Your AI notices your sleep quality has been poor for three nights. It correlates this with a high-stress project on your work calendar and sees you’ve been ordering takeout more often. Instead of just showing you a bad sleep score, it takes action:\\n\\n> *“Good morning. I noticed your deep sleep has been down 30% this week, and your resting heart rate is elevated. Your cortisol levels seem high, likely due to the Q4 report deadline. I’ve added a 15-minute mindfulness session to your calendar before your first meeting. I also suggest swapping your usual afternoon coffee for green tea today—I’ve already added it to your grocery delivery list. Shall I order it?”*\\n\\nThis AI isn\\'t just a tracker; it\\'s a proactive partner in your well-being, connecting dots you might never see on your own.\\n\\n#### **2. Home: The Intuitive, Ambient Environment**\\n\\n*   **Today:** You use voice commands or apps to control individual smart devices. \"Alexa, dim the living room lights.\"\\n*   **Tomorrow:** Your home AI will create a truly responsive environment that adapts to the needs and moods of its inhabitants without being asked.\\n\\nPicture coming home after a long, frustrating day at work. Your car communicates your imminent arrival, and your biometric data signals high stress levels. As you walk in the door:\\n\\n> The lights are already set to a warm, soft glow. A calming, instrumental playlist is playing softly. The thermostat has adjusted the temperature to your optimal comfort level. On the kitchen display, it suggests three simple, healthy dinner recipes based on the ingredients you have and the fact that you probably don\\'t have the energy for a complex meal.\\n\\nThe home becomes a seamless extension of your needs, an environment that actively works to restore and support you.\\n\\n#### **3. Work: The AI as Your Strategic Partner**\\n\\n*   **Today:** AI helps you draft emails, schedule meetings, and take notes.\\n*   **Tomorrow:** Your work AI will function as a strategic chief of staff, managing not just your tasks, but your focus, energy, and effectiveness.\\n\\nConsider the preparation for a major client meeting.\\n\\n> Weeks before, your AI has been monitoring communications and project progress, flagging potential risks. The day before, it doesn\\'t just remind you of the meeting. It provides a dynamic briefing: *\"Here are the three key objectives for tomorrow\\'s meeting with Client X. Based on their recent emails, their main concern is budget overruns. I\\'ve analyzed the project data and prepared a summary chart showing our efficiency gains. I\\'ve also blocked 45 minutes of \\'deep work\\' time in your calendar this afternoon for you to review and prepare. All relevant documents are in this folder.\"*\\n\\nDuring the meeting, it transcribes, identifies action items, and assigns them. Afterward, it drafts follow-up emails tailored to each stakeholder. It\\'s no longer just an assistant; it\\'s a force multiplier for your productivity and strategic thinking.\\n\\n### The Double-Edged Sword: Critical Challenges on the Horizon\\n\\nThis vision of a frictionless, optimized life is seductive. But it comes with a host of ethical dilemmas and societal questions that we cannot afford to ignore.\\n\\n*   **The End of Privacy?** For an AI to be this proactive, it requires a staggering amount of personal data. Who owns this data? How is it protected? The line between personalization and surveillance becomes dangerously thin. We risk trading our privacy for convenience, creating a world where our every action, mood, and biological function is monitored and monetized.\\n\\n*   **The Erosion of Agency and Autonomy:** If an AI is constantly optimizing our choices—from the food we eat to the way we manage our time—do we lose the ability to make decisions for ourselves? What happens to serendipity, to happy accidents, to the important life lessons learned from making a *bad* choice? An over-optimized life could lead to a form of \"learned helplessness,\" where our capacity for critical thinking and self-determination atrophies.\\n\\n*   **The Bias Amplifier:** AI systems learn from data, and our world\\'s data is filled with historical biases. A health AI trained on data from one demographic might give poor advice to another. A work AI might subtly favor communication styles more common among men. This technology could inadvertently entrench existing inequalities, creating a new digital divide between the \"AI-enhanced\" and everyone else.\\n\\n*   **Accountability in an Automated World:** When a proactive AI makes a mistake, who is responsible? If a health AI fails to spot a critical symptom, is it the user, the developer, or the hardware manufacturer who is at fault? We are entering a gray zone where lines of responsibility are blurred, and accountability is difficult to assign.\\n\\n### Navigating Our Proactive Future\\n\\nThe evolution from reactive to proactive AI is not a matter of *if*, but *when* and *how*. This technological leap holds the promise of healthier lives, more comfortable homes, and more fulfilling work. But it is not a utopia we will simply stumble into.\\n\\nBuilding this future responsibly requires a conscious, collective effort. We need robust conversations around data ownership and digital rights. We need to build systems with transparency and user control at their core. We must demand algorithms that are fair, equitable, and accountable.\\n\\nThe true challenge isn\\'t just engineering a smarter AI. It\\'s about designing a future where these powerful tools augment our humanity, rather than diminish it. The question isn\\'t what our AI will be able to do for us, but what kind of people we want to be in a world where it can do almost anything.', 'evaluation': '10'}\n"
     ]
    }
   ],
   "source": [
    "workflow  = graph.compile()\n",
    "result = workflow.invoke({\"topic\": \"The Future of AI in Everyday Life\"})\n",
    "print(result)"
   ]
  }
 ],
 "metadata": {
  "kernelspec": {
   "display_name": ".venv (3.12.6)",
   "language": "python",
   "name": "python3"
  },
  "language_info": {
   "codemirror_mode": {
    "name": "ipython",
    "version": 3
   },
   "file_extension": ".py",
   "mimetype": "text/x-python",
   "name": "python",
   "nbconvert_exporter": "python",
   "pygments_lexer": "ipython3",
   "version": "3.12.6"
  }
 },
 "nbformat": 4,
 "nbformat_minor": 5
}
