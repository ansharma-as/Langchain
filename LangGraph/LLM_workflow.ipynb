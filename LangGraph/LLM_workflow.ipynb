{
 "cells": [
  {
   "cell_type": "code",
   "execution_count": 20,
   "id": "initial_id",
   "metadata": {
    "ExecuteTime": {
     "end_time": "2025-10-06T02:26:04.688497Z",
     "start_time": "2025-10-06T02:26:04.301172Z"
    },
    "collapsed": true
   },
   "outputs": [],
   "source": [
    "from langgraph.constants import START, END\n",
    "from langgraph.graph import StateGraph\n",
    "from dotenv import load_dotenv\n",
    "from typing import TypedDict\n",
    "from langchain_google_genai import ChatGoogleGenerativeAI\n"
   ]
  },
  {
   "cell_type": "code",
   "execution_count": 21,
   "id": "a97a59342f92326c",
   "metadata": {
    "ExecuteTime": {
     "end_time": "2025-10-06T02:25:58.759880Z",
     "start_time": "2025-10-06T02:25:58.651782Z"
    }
   },
   "outputs": [],
   "source": [
    "load_dotenv()\n",
    "\n",
    "model = ChatGoogleGenerativeAI(model='gemini-2.5-pro')"
   ]
  },
  {
   "cell_type": "code",
   "execution_count": 22,
   "id": "6abe02ca54c3841d",
   "metadata": {},
   "outputs": [],
   "source": [
    "class ChatState(TypedDict):\n",
    "    que: str\n",
    "    ans: str\n",
    "\n"
   ]
  },
  {
   "cell_type": "code",
   "execution_count": 23,
   "id": "c24cbde40fdf8523",
   "metadata": {},
   "outputs": [],
   "source": [
    "def llm_qa(state: ChatState) -> ChatState:\n",
    "    que = state[\"que\"]\n",
    "\n",
    "    prompt = f'Answer the following question: \"{que}\"'\n",
    "\n",
    "    answer = model.invoke(prompt).content\n",
    "    state['ans'] = answer\n",
    "    return state"
   ]
  },
  {
   "cell_type": "code",
   "execution_count": 27,
   "id": "607b38f26e58b129",
   "metadata": {},
   "outputs": [],
   "source": [
    "graph = StateGraph(ChatState)\n",
    "\n",
    "graph.add_node('llm_qa', llm_qa)\n",
    "\n",
    "graph.add_edge(START, 'llm_qa')\n",
    "graph.add_edge('llm_qa', END)\n",
    "\n",
    "\n",
    "workflow  = graph.compile()\n",
    "\n"
   ]
  },
  {
   "cell_type": "code",
   "execution_count": 25,
   "id": "9f368163",
   "metadata": {},
   "outputs": [
    {
     "name": "stdout",
     "output_type": "stream",
     "text": [
      "{'que': 'What is the capital of France?', 'ans': 'The capital of France is **Paris**.'}\n"
     ]
    }
   ],
   "source": [
    "initial_state = {\"que\": \"What is the capital of France?\"}\n",
    "result = workflow.invoke(initial_state)\n",
    "print(result)"
   ]
  }
 ],
 "metadata": {
  "kernelspec": {
   "display_name": ".venv (3.12.6)",
   "language": "python",
   "name": "python3"
  },
  "language_info": {
   "codemirror_mode": {
    "name": "ipython",
    "version": 3
   },
   "file_extension": ".py",
   "mimetype": "text/x-python",
   "name": "python",
   "nbconvert_exporter": "python",
   "pygments_lexer": "ipython3",
   "version": "3.12.6"
  }
 },
 "nbformat": 4,
 "nbformat_minor": 5
}
